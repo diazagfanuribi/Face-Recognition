{
 "cells": [
  {
   "cell_type": "code",
   "execution_count": 1,
   "metadata": {},
   "outputs": [],
   "source": [
    "import tensorflow as tf\n",
    "import numpy as np\n",
    "from tensorflow.keras.models import model_from_json\n",
    "from sklearn.metrics import classification_report, confusion_matrix"
   ]
  },
  {
   "cell_type": "markdown",
   "metadata": {},
   "source": [
    "Load data citra yang telah disimpan pada file .csv. Data yang terdapat pada file telah diubah dalam bentuk vektor dimana baris merupakan representasi banyak citra dan kolom merepresentasi panjang citra pada x_train dan x_test."
   ]
  },
  {
   "cell_type": "code",
   "execution_count": 2,
   "metadata": {},
   "outputs": [],
   "source": [
    "x_train= np.genfromtxt('x_train.csv', delimiter=',')\n",
    "y_train = np.genfromtxt('y_train.csv', delimiter=',')\n",
    "x_test = np.genfromtxt('x_test.csv', delimiter=',')\n",
    "y_test = np.genfromtxt('y_test.csv', delimiter=',')"
   ]
  },
  {
   "cell_type": "markdown",
   "metadata": {},
   "source": [
    "Lakukan normalisasi pada data dengan cara membagi data dengan angka 255 yang merupakan nilai maksimal suatu piksel pada citra. Ubah data latih dan data uji menjadi array 4 dimensi (Tensor) agar bisa dimuat pada model TensorFlow. Input shape disesuaikan dengan ukuran citra, dimana untuk data citra berukuran 100x100 piksel."
   ]
  },
  {
   "cell_type": "code",
   "execution_count": 3,
   "metadata": {},
   "outputs": [],
   "source": [
    "x_train, x_test = x_train/255.0, x_test/255.0\n",
    "x_train = x_train.reshape(x_train.shape[0], 100, 100, 1)\n",
    "x_test = x_test.reshape(x_test.shape[0], 100, 100, 1)\n",
    "input_shape = (100,100, 1)\n"
   ]
  },
  {
   "cell_type": "markdown",
   "metadata": {},
   "source": [
    "Model CNN yang digunakan menggunakan satu layer konvolusi dengan filter 3x3 berjumlah 28 dan dua fully connected layer dengan jumlah node 512 dan 10. Fully connected layer dilengkapi dengan dropout untuk menghindari overfitting.Pada layer terakhir digunakan fungsi aktivasi softmax yang akan menghasilkan probabilitas dari tiap node di output. Model dikompilasi dengan adam optimizer dan sparse categorical crossentropy loss function."
   ]
  },
  {
   "cell_type": "code",
   "execution_count": 4,
   "metadata": {},
   "outputs": [],
   "source": [
    "model = tf.keras.models.Sequential([\n",
    "    tf.keras.layers.Conv2D(28, kernel_size = (3, 3), input_shape = input_shape),\n",
    "    tf.keras.layers.MaxPooling2D(pool_size = (2, 2)),\n",
    "    tf.keras.layers.Flatten(),\n",
    "    tf.keras.layers.Dense(512, activation = tf.nn.relu),\n",
    "    tf.keras.layers.Dropout(0.2),\n",
    "    tf.keras.layers.Dense(10, activation = tf.nn.softmax)\n",
    "])"
   ]
  },
  {
   "cell_type": "code",
   "execution_count": 5,
   "metadata": {},
   "outputs": [],
   "source": [
    "model.compile(optimizer = 'sgd',\n",
    "             loss = 'sparse_categorical_crossentropy',\n",
    "             metrics = ['accuracy'])"
   ]
  },
  {
   "cell_type": "code",
   "execution_count": 6,
   "metadata": {},
   "outputs": [
    {
     "name": "stdout",
     "output_type": "stream",
     "text": [
      "Train on 40 samples, validate on 20 samples\n",
      "Epoch 1/100\n",
      " - 3s - loss: 2.1996 - acc: 0.2250 - val_loss: 1.6071 - val_acc: 0.5000\n",
      "Epoch 2/100\n",
      " - 1s - loss: 1.5379 - acc: 0.5500 - val_loss: 1.3920 - val_acc: 0.5000\n",
      "Epoch 3/100\n",
      " - 1s - loss: 1.3021 - acc: 0.6000 - val_loss: 1.2603 - val_acc: 0.5000\n",
      "Epoch 4/100\n",
      " - 1s - loss: 1.1975 - acc: 0.5500 - val_loss: 1.1215 - val_acc: 0.4500\n",
      "Epoch 5/100\n",
      " - 1s - loss: 1.0300 - acc: 0.5750 - val_loss: 1.0135 - val_acc: 0.7500\n",
      "Epoch 6/100\n",
      " - 1s - loss: 0.8869 - acc: 0.8250 - val_loss: 1.0433 - val_acc: 0.5000\n",
      "Epoch 7/100\n",
      " - 1s - loss: 0.9269 - acc: 0.5250 - val_loss: 0.9077 - val_acc: 0.5500\n",
      "Epoch 8/100\n",
      " - 1s - loss: 0.7248 - acc: 0.8250 - val_loss: 1.5333 - val_acc: 0.5000\n",
      "Epoch 9/100\n",
      " - 1s - loss: 1.1761 - acc: 0.6000 - val_loss: 0.7372 - val_acc: 0.9000\n",
      "Epoch 10/100\n",
      " - 1s - loss: 0.6364 - acc: 0.9250 - val_loss: 0.6950 - val_acc: 0.9000\n",
      "Epoch 11/100\n",
      " - 1s - loss: 0.6157 - acc: 0.7500 - val_loss: 1.0330 - val_acc: 0.5000\n",
      "Epoch 12/100\n",
      " - 1s - loss: 0.8292 - acc: 0.6250 - val_loss: 0.6260 - val_acc: 1.0000\n",
      "Epoch 13/100\n",
      " - 1s - loss: 0.5046 - acc: 0.9500 - val_loss: 0.6503 - val_acc: 0.7500\n",
      "Epoch 14/100\n",
      " - 1s - loss: 0.5008 - acc: 0.7750 - val_loss: 0.5476 - val_acc: 1.0000\n",
      "Epoch 15/100\n",
      " - 1s - loss: 0.4439 - acc: 0.9250 - val_loss: 0.5093 - val_acc: 0.9000\n",
      "Epoch 16/100\n",
      " - 1s - loss: 0.4517 - acc: 0.8500 - val_loss: 0.6824 - val_acc: 0.6500\n",
      "Epoch 17/100\n",
      " - 1s - loss: 0.5258 - acc: 0.7500 - val_loss: 0.5321 - val_acc: 0.7500\n",
      "Epoch 18/100\n",
      " - 1s - loss: 0.3609 - acc: 0.9000 - val_loss: 0.6480 - val_acc: 0.7500\n",
      "Epoch 19/100\n",
      " - 1s - loss: 0.6829 - acc: 0.6750 - val_loss: 0.5901 - val_acc: 0.7500\n",
      "Epoch 20/100\n",
      " - 1s - loss: 0.4515 - acc: 0.7750 - val_loss: 0.5608 - val_acc: 0.8500\n",
      "Epoch 21/100\n",
      " - 1s - loss: 0.3744 - acc: 0.8750 - val_loss: 0.5656 - val_acc: 0.7000\n",
      "Epoch 22/100\n",
      " - 1s - loss: 0.5299 - acc: 0.6500 - val_loss: 0.7323 - val_acc: 0.6000\n",
      "Epoch 23/100\n",
      " - 1s - loss: 0.5410 - acc: 0.7500 - val_loss: 0.3730 - val_acc: 1.0000\n",
      "Epoch 24/100\n",
      " - 1s - loss: 0.3027 - acc: 0.9250 - val_loss: 0.4660 - val_acc: 0.8500\n",
      "Epoch 25/100\n",
      " - 1s - loss: 0.2606 - acc: 0.9750 - val_loss: 0.4014 - val_acc: 0.7500\n",
      "Epoch 26/100\n",
      " - 1s - loss: 0.2920 - acc: 0.9000 - val_loss: 0.3259 - val_acc: 1.0000\n",
      "Epoch 27/100\n",
      " - 1s - loss: 0.2392 - acc: 0.9750 - val_loss: 0.3289 - val_acc: 1.0000\n",
      "Epoch 28/100\n",
      " - 1s - loss: 0.3380 - acc: 0.9250 - val_loss: 0.6001 - val_acc: 0.6000\n",
      "Epoch 29/100\n",
      " - 1s - loss: 0.3150 - acc: 0.8250 - val_loss: 0.3653 - val_acc: 0.7500\n",
      "Epoch 30/100\n",
      " - 1s - loss: 0.2326 - acc: 0.9500 - val_loss: 0.3861 - val_acc: 0.9000\n",
      "Epoch 31/100\n",
      " - 1s - loss: 0.2225 - acc: 0.9500 - val_loss: 0.3166 - val_acc: 0.8500\n",
      "Epoch 32/100\n",
      " - 1s - loss: 0.2130 - acc: 0.9500 - val_loss: 0.2584 - val_acc: 1.0000\n",
      "Epoch 33/100\n",
      " - 1s - loss: 0.1965 - acc: 0.9750 - val_loss: 0.3267 - val_acc: 0.8500\n",
      "Epoch 34/100\n",
      " - 1s - loss: 0.2030 - acc: 0.9250 - val_loss: 0.5289 - val_acc: 0.6500\n",
      "Epoch 35/100\n",
      " - 1s - loss: 0.4035 - acc: 0.8000 - val_loss: 0.3491 - val_acc: 0.9000\n",
      "Epoch 36/100\n",
      " - 1s - loss: 0.1918 - acc: 0.9500 - val_loss: 0.2636 - val_acc: 1.0000\n",
      "Epoch 37/100\n",
      " - 1s - loss: 0.2098 - acc: 0.9500 - val_loss: 0.2587 - val_acc: 0.9500\n",
      "Epoch 38/100\n",
      " - 1s - loss: 0.1638 - acc: 1.0000 - val_loss: 0.2901 - val_acc: 0.9500\n",
      "Epoch 39/100\n",
      " - 1s - loss: 0.1805 - acc: 0.9750 - val_loss: 0.3537 - val_acc: 0.9000\n",
      "Epoch 40/100\n",
      " - 1s - loss: 0.1594 - acc: 0.9500 - val_loss: 0.3611 - val_acc: 0.7500\n",
      "Epoch 41/100\n",
      " - 1s - loss: 0.1652 - acc: 0.9500 - val_loss: 0.2780 - val_acc: 0.9500\n",
      "Epoch 42/100\n",
      " - 1s - loss: 0.1695 - acc: 0.9750 - val_loss: 0.2599 - val_acc: 0.9000\n",
      "Epoch 43/100\n",
      " - 1s - loss: 0.1282 - acc: 1.0000 - val_loss: 0.2517 - val_acc: 0.9500\n",
      "Epoch 44/100\n",
      " - 1s - loss: 0.1345 - acc: 1.0000 - val_loss: 0.3013 - val_acc: 0.8500\n",
      "Epoch 45/100\n",
      " - 1s - loss: 0.1372 - acc: 0.9750 - val_loss: 0.2291 - val_acc: 0.9500\n",
      "Epoch 46/100\n",
      " - 1s - loss: 0.1096 - acc: 1.0000 - val_loss: 0.3324 - val_acc: 0.8000\n",
      "Epoch 47/100\n",
      " - 1s - loss: 0.1465 - acc: 0.9500 - val_loss: 0.1801 - val_acc: 1.0000\n",
      "Epoch 48/100\n",
      " - 1s - loss: 0.1439 - acc: 1.0000 - val_loss: 0.2601 - val_acc: 0.9500\n",
      "Epoch 49/100\n",
      " - 1s - loss: 0.1263 - acc: 1.0000 - val_loss: 0.1879 - val_acc: 1.0000\n",
      "Epoch 50/100\n",
      " - 1s - loss: 0.1298 - acc: 0.9750 - val_loss: 0.4711 - val_acc: 0.7500\n",
      "Epoch 51/100\n",
      " - 1s - loss: 0.2685 - acc: 0.9000 - val_loss: 0.2289 - val_acc: 0.9500\n",
      "Epoch 52/100\n",
      " - 1s - loss: 0.1071 - acc: 1.0000 - val_loss: 0.2441 - val_acc: 0.9000\n",
      "Epoch 53/100\n",
      " - 1s - loss: 0.0875 - acc: 1.0000 - val_loss: 0.2976 - val_acc: 0.9500\n",
      "Epoch 54/100\n",
      " - 1s - loss: 0.1466 - acc: 0.9500 - val_loss: 0.2091 - val_acc: 0.9500\n",
      "Epoch 55/100\n",
      " - 1s - loss: 0.0948 - acc: 0.9750 - val_loss: 0.2069 - val_acc: 0.9500\n",
      "Epoch 56/100\n",
      " - 1s - loss: 0.0814 - acc: 1.0000 - val_loss: 0.2249 - val_acc: 0.9000\n",
      "Epoch 57/100\n",
      " - 1s - loss: 0.0835 - acc: 1.0000 - val_loss: 0.2488 - val_acc: 0.9500\n",
      "Epoch 58/100\n",
      " - 1s - loss: 0.1260 - acc: 0.9750 - val_loss: 0.1649 - val_acc: 1.0000\n",
      "Epoch 59/100\n",
      " - 2s - loss: 0.0980 - acc: 1.0000 - val_loss: 0.1648 - val_acc: 1.0000\n",
      "Epoch 60/100\n",
      " - 1s - loss: 0.0883 - acc: 1.0000 - val_loss: 0.2610 - val_acc: 0.9500\n",
      "Epoch 61/100\n",
      " - 1s - loss: 0.1118 - acc: 0.9750 - val_loss: 0.1503 - val_acc: 1.0000\n",
      "Epoch 62/100\n",
      " - 1s - loss: 0.0800 - acc: 1.0000 - val_loss: 0.1479 - val_acc: 1.0000\n",
      "Epoch 63/100\n",
      " - 1s - loss: 0.0920 - acc: 1.0000 - val_loss: 0.4936 - val_acc: 0.7500\n",
      "Epoch 64/100\n",
      " - 1s - loss: 0.2149 - acc: 0.8750 - val_loss: 0.1497 - val_acc: 1.0000\n",
      "Epoch 65/100\n",
      " - 1s - loss: 0.1176 - acc: 1.0000 - val_loss: 0.1702 - val_acc: 0.9500\n",
      "Epoch 66/100\n",
      " - 1s - loss: 0.0720 - acc: 1.0000 - val_loss: 0.1544 - val_acc: 1.0000\n",
      "Epoch 67/100\n",
      " - 1s - loss: 0.0559 - acc: 1.0000 - val_loss: 0.1685 - val_acc: 0.9500\n",
      "Epoch 68/100\n",
      " - 1s - loss: 0.0604 - acc: 1.0000 - val_loss: 0.2064 - val_acc: 0.9000\n",
      "Epoch 69/100\n",
      " - 1s - loss: 0.0740 - acc: 1.0000 - val_loss: 0.2396 - val_acc: 0.9000\n",
      "Epoch 70/100\n",
      " - 1s - loss: 0.0556 - acc: 1.0000 - val_loss: 0.2259 - val_acc: 0.9000\n",
      "Epoch 71/100\n",
      " - 1s - loss: 0.0618 - acc: 1.0000 - val_loss: 0.1727 - val_acc: 0.9500\n",
      "Epoch 72/100\n",
      " - 1s - loss: 0.0462 - acc: 1.0000 - val_loss: 0.2074 - val_acc: 0.9000\n",
      "Epoch 73/100\n",
      " - 1s - loss: 0.0521 - acc: 1.0000 - val_loss: 0.1799 - val_acc: 0.9500\n",
      "Epoch 74/100\n",
      " - 1s - loss: 0.0438 - acc: 1.0000 - val_loss: 0.2271 - val_acc: 0.9000\n",
      "Epoch 75/100\n",
      " - 1s - loss: 0.0494 - acc: 1.0000 - val_loss: 0.2251 - val_acc: 0.9000\n",
      "Epoch 76/100\n",
      " - 1s - loss: 0.0705 - acc: 1.0000 - val_loss: 0.1693 - val_acc: 0.9500\n",
      "Epoch 77/100\n",
      " - 1s - loss: 0.0451 - acc: 1.0000 - val_loss: 0.1945 - val_acc: 0.9000\n",
      "Epoch 78/100\n",
      " - 1s - loss: 0.0478 - acc: 1.0000 - val_loss: 0.1228 - val_acc: 1.0000\n",
      "Epoch 79/100\n",
      " - 1s - loss: 0.0537 - acc: 1.0000 - val_loss: 0.1517 - val_acc: 1.0000\n",
      "Epoch 80/100\n",
      " - 1s - loss: 0.0623 - acc: 1.0000 - val_loss: 0.1289 - val_acc: 1.0000\n",
      "Epoch 81/100\n",
      " - 1s - loss: 0.0486 - acc: 1.0000 - val_loss: 0.2115 - val_acc: 0.9000\n",
      "Epoch 82/100\n",
      " - 1s - loss: 0.0528 - acc: 1.0000 - val_loss: 0.1943 - val_acc: 0.9500\n",
      "Epoch 83/100\n",
      " - 1s - loss: 0.0485 - acc: 1.0000 - val_loss: 0.1845 - val_acc: 0.9000\n",
      "Epoch 84/100\n",
      " - 1s - loss: 0.0445 - acc: 1.0000 - val_loss: 0.1491 - val_acc: 0.9500\n",
      "Epoch 85/100\n",
      " - 1s - loss: 0.0355 - acc: 1.0000 - val_loss: 0.1376 - val_acc: 0.9500\n",
      "Epoch 86/100\n",
      " - 1s - loss: 0.0428 - acc: 1.0000 - val_loss: 0.1622 - val_acc: 0.9500\n",
      "Epoch 87/100\n",
      " - 1s - loss: 0.0451 - acc: 1.0000 - val_loss: 0.1904 - val_acc: 0.9000\n",
      "Epoch 88/100\n",
      " - 1s - loss: 0.0392 - acc: 1.0000 - val_loss: 0.1650 - val_acc: 0.9500\n",
      "Epoch 89/100\n",
      " - 1s - loss: 0.0344 - acc: 1.0000 - val_loss: 0.1585 - val_acc: 0.9500\n",
      "Epoch 90/100\n",
      " - 1s - loss: 0.0390 - acc: 1.0000 - val_loss: 0.1729 - val_acc: 0.9500\n",
      "Epoch 91/100\n",
      " - 1s - loss: 0.0402 - acc: 1.0000 - val_loss: 0.1357 - val_acc: 0.9500\n",
      "Epoch 92/100\n",
      " - 1s - loss: 0.0387 - acc: 1.0000 - val_loss: 0.1361 - val_acc: 0.9500\n",
      "Epoch 93/100\n",
      " - 1s - loss: 0.0403 - acc: 1.0000 - val_loss: 0.1402 - val_acc: 1.0000\n",
      "Epoch 94/100\n",
      " - 1s - loss: 0.0329 - acc: 1.0000 - val_loss: 0.1255 - val_acc: 1.0000\n",
      "Epoch 95/100\n",
      " - 1s - loss: 0.0277 - acc: 1.0000 - val_loss: 0.1351 - val_acc: 0.9500\n",
      "Epoch 96/100\n",
      " - 1s - loss: 0.0247 - acc: 1.0000 - val_loss: 0.1595 - val_acc: 0.9500\n"
     ]
    },
    {
     "name": "stdout",
     "output_type": "stream",
     "text": [
      "Epoch 97/100\n",
      " - 1s - loss: 0.0366 - acc: 1.0000 - val_loss: 0.1215 - val_acc: 0.9500\n",
      "Epoch 98/100\n",
      " - 1s - loss: 0.0326 - acc: 1.0000 - val_loss: 0.1361 - val_acc: 0.9500\n",
      "Epoch 99/100\n",
      " - 1s - loss: 0.0451 - acc: 1.0000 - val_loss: 0.1570 - val_acc: 0.9500\n",
      "Epoch 100/100\n",
      " - 1s - loss: 0.0294 - acc: 1.0000 - val_loss: 0.1841 - val_acc: 0.9000\n"
     ]
    },
    {
     "data": {
      "text/plain": [
       "<tensorflow.python.keras.callbacks.History at 0x22bcbd3c780>"
      ]
     },
     "execution_count": 6,
     "metadata": {},
     "output_type": "execute_result"
    }
   ],
   "source": [
    "model.fit(x_train, y_train, validation_data=(x_test, y_test), epochs = 100,verbose=2)"
   ]
  },
  {
   "cell_type": "code",
   "execution_count": 8,
   "metadata": {},
   "outputs": [
    {
     "name": "stdout",
     "output_type": "stream",
     "text": [
      "\r",
      "20/20 [==============================] - 0s 6ms/step\n"
     ]
    },
    {
     "data": {
      "text/plain": [
       "[0.1841282695531845, 0.8999999761581421]"
      ]
     },
     "execution_count": 8,
     "metadata": {},
     "output_type": "execute_result"
    }
   ],
   "source": [
    "model.evaluate(x_test, y_test)"
   ]
  },
  {
   "cell_type": "markdown",
   "metadata": {},
   "source": [
    "## Peforma Sistem\n",
    "Performa sistem divisualisasikan menggunakan confusion matrix. Ada tiga score yang diperlihatkan, yaitu precision, recall, dan f1-score. Nilai precision menunjukkan akurasi model dalam mengklasifikasi data yang ada di kelas diuji, sedangkan nilai recall menunjukkan akurasi mode dalam mengklasifikasi data yang bukan dari kelas yang diuji. Nilai f1-score menunjukkan akurasi model secara keseluruhan."
   ]
  },
  {
   "cell_type": "code",
   "execution_count": 9,
   "metadata": {},
   "outputs": [
    {
     "name": "stdout",
     "output_type": "stream",
     "text": [
      "Classification report for classifier <tensorflow.python.keras.engine.sequential.Sequential object at 0x0000022BCBD3C5F8>:\n",
      "             precision    recall  f1-score   support\n",
      "\n",
      "        0.0       1.00      1.00      1.00         5\n",
      "        1.0       1.00      1.00      1.00         5\n",
      "        2.0       1.00      0.60      0.75         5\n",
      "        3.0       0.71      1.00      0.83         5\n",
      "\n",
      "avg / total       0.93      0.90      0.90        20\n",
      "\n",
      "\n",
      "Confusion matrix:\n",
      "[[5 0 0 0]\n",
      " [0 5 0 0]\n",
      " [0 0 3 2]\n",
      " [0 0 0 5]]\n"
     ]
    }
   ],
   "source": [
    "predicted=model.predict_classes(x_test)\n",
    "print(\"Classification report for classifier %s:\\n%s\\n\"\n",
    "      % (model, classification_report(y_test, predicted)))\n",
    "print(\"Confusion matrix:\\n%s\" % confusion_matrix(y_test, predicted))"
   ]
  },
  {
   "cell_type": "markdown",
   "metadata": {},
   "source": [
    "## Proses Penyimpanan Model dan Weight"
   ]
  },
  {
   "cell_type": "code",
   "execution_count": 10,
   "metadata": {},
   "outputs": [],
   "source": [
    "model_json = model.to_json()\n",
    "with open(\"model.json\", \"w\") as json_file:\n",
    "    json_file.write(model_json)\n",
    "# serialize weights to HDF5\n",
    "model.save_weights(\"model.h5\")\n"
   ]
  },
  {
   "cell_type": "code",
   "execution_count": null,
   "metadata": {},
   "outputs": [],
   "source": []
  }
 ],
 "metadata": {
  "kernelspec": {
   "display_name": "Python 3",
   "language": "python",
   "name": "python3"
  },
  "language_info": {
   "codemirror_mode": {
    "name": "ipython",
    "version": 3
   },
   "file_extension": ".py",
   "mimetype": "text/x-python",
   "name": "python",
   "nbconvert_exporter": "python",
   "pygments_lexer": "ipython3",
   "version": "3.6.4"
  }
 },
 "nbformat": 4,
 "nbformat_minor": 2
}
